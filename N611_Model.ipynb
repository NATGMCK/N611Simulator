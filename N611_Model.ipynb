{
  "nbformat": 4,
  "nbformat_minor": 0,
  "metadata": {
    "colab": {
      "provenance": [],
      "authorship_tag": "ABX9TyNZfJ9gLB6jkFI08Eo5lM3Q",
      "include_colab_link": true
    },
    "kernelspec": {
      "name": "python3",
      "display_name": "Python 3"
    },
    "language_info": {
      "name": "python"
    }
  },
  "cells": [
    {
      "cell_type": "markdown",
      "metadata": {
        "id": "view-in-github",
        "colab_type": "text"
      },
      "source": [
        "<a href=\"https://colab.research.google.com/github/NATGMCK/N611Simulator/blob/main/N611_Model.ipynb\" target=\"_parent\"><img src=\"https://colab.research.google.com/assets/colab-badge.svg\" alt=\"Open In Colab\"/></a>"
      ]
    },
    {
      "cell_type": "code",
      "source": [
        "!easy_install -U scikit-fuzzy\n",
        "!pip install scikit-fuzzy\n",
        "!pip install opem"
      ],
      "metadata": {
        "id": "f20vk9k-dC-F"
      },
      "execution_count": null,
      "outputs": []
    },
    {
      "cell_type": "code",
      "execution_count": 2,
      "metadata": {
        "id": "now4grym4P8Q"
      },
      "outputs": [],
      "source": [
        "from math import e\n",
        "import numpy as np\n",
        "import matplotlib.pyplot as plt\n",
        "from math import log\n",
        "import pandas as pd\n",
        "import skfuzzy as fuzz\n",
        "from skfuzzy import control as ctrl\n",
        "import random\n",
        "from opem.Static.Amphlett import Static_Analysis\n",
        "from math import log"
      ]
    },
    {
      "cell_type": "markdown",
      "source": [
        "###Modelo Panel Solar"
      ],
      "metadata": {
        "id": "efDN49qF4gLZ"
      }
    },
    {
      "cell_type": "code",
      "source": [
        "def SolarPanel(V,I,G,PLoad):      #Voltage,Current,Radiance,Power Load\n",
        "    Ki=0.05                       #Shot-circuit current at 25°C and 1000W/m^2\n",
        "    Tn=298                        #Nominal temperature\n",
        "    q=1.6*10**(-19)               #Electron charge\n",
        "    n=0.5                         #Ideality factor of the diode\n",
        "    K=1.38*10**(-23)              #Boltzmann's Constant\n",
        "    Eg0=1.1                       #Band gap energy of the semiconductor\n",
        "    Ns=114                        #Number of cells in series\n",
        "    Np=1                          #Number of cells in parallel\n",
        "    Rs=0.221                      #Series Resistance\n",
        "    Rsh=415.405                   #Shunt Resistance\n",
        "    Pmp=210                       #Rated power\n",
        "    Vmp=18.3                      #Voltage at maximun power\n",
        "    Imp=11.48                     #Current ar maximun power\n",
        "    Voc=22.8                      #Open circuit voltage\n",
        "    Isc=12.11                     #Short circuit current\n",
        "    T=298                         #Temperature       \n",
        "    #Reverse saturation current\n",
        "    Irs=Isc/(e**((q*Voc)/(n*Ns*K*T))-1)\n",
        "    #Saturation Current \n",
        "    Io=e**(((1/Tn-1/T)*Eg0*q)/(n*K))*Irs*(T/Tn)**3\n",
        "    #Photo-current\n",
        "    Iph=(Isc+Ki*(T-Tn))*(G/1000) \n",
        "    #Current through shunt resistor\n",
        "    Ish=(V+Rs)/Rsh\n",
        "    #Output Current\n",
        "    I_out=Iph-Io*(e**((q*(V+I*Rs))/(n*K*Ns*T))-1)-Ish\n",
        "    if I_out*V-PLoad>0:\n",
        "        P_out=PLoad\n",
        "        I_out=P_out/V\n",
        "    else: \n",
        "        P_out=I_out*V\n",
        "        if P_out<=0:\n",
        "          P_out=0\n",
        "          I_out=0\n",
        "    EffD=0.94 #Eff Diode\n",
        "    EffACDC=0.85 #Eff  AC DC Converter\n",
        "    EffDCDC=0.85 # Eff  DC DC Converter\n",
        "    EffDCAC=0.85 #Eff Inverter\n",
        "    P_out=P_out/(EffDCDC*EffD)\n",
        "    if P_out>210:\n",
        "      P_out=210\n",
        "    return I_out,P_out"
      ],
      "metadata": {
        "id": "z_BnRbD44hEH"
      },
      "execution_count": 3,
      "outputs": []
    },
    {
      "cell_type": "markdown",
      "source": [
        "###Modelo Batería"
      ],
      "metadata": {
        "id": "CQGvT8iK4z2G"
      }
    },
    {
      "cell_type": "code",
      "source": [
        "# Definir parámetros de la batería\n",
        "Q = 215 #eb wh #18.0  # Capacidad nominal de la batería en Ah\n",
        "R = 0.016  # Resistencia interna de la batería en ohmios\n",
        "V_nom = 12  # Tensión nominal de la batería en voltios\n",
        "nch=0.95\n",
        "ndisch=0.95\n",
        "\n",
        "# Definir función para calcular la tensión de la batería en función del SOC\n",
        "def battery_voltage(soc):\n",
        "    V_oc = 20.0  # Tensión en circuito abierto de la batería en voltios\n",
        "    V_min = 11.0  # Tensión mínima de la batería en voltios\n",
        "    return np.interp(soc, [0, 1], [V_min, V_oc])  # Interpolar la tensión en función del SOC\n",
        "\n",
        "#------------------------------------\n",
        "\n",
        "def Battery(soc,dt,Pbatt):\n",
        "  if Pbatt<=0:\n",
        "    soc=soc+(nch*Pbatt*dt)/(Q*3600)\n",
        "  else:\n",
        "    soc=soc-(Pbatt*dt)/(ndisch*Q*3600)\n",
        "  V_batt=battery_voltage(soc)\n",
        "  return soc,V_batt\n",
        "\n",
        "# Ejemplo de simulación de descarga de la batería\n",
        "#soc = 1.0  # Estado inicial de carga de la batería\n",
        "#dt = 300.0  # Intervalo de tiempo en segundos\n",
        "#I = 1  # Corriente de descarga en amperios\n",
        "#t = np.arange(0, 18000, dt)  # Vector de tiempo para la simulación\n",
        "#V = np.zeros_like(t)  # Vector de tensión para la simulación\n",
        "#soc2= np.zeros_like(t)\n",
        "#for i in range(len(t)):\n",
        "#    soc2[i], V[i] = Battery(soc, dt, I)\n",
        "\n",
        "# Graficar la tensión de la batería en función del tiempo\n",
        "#import matplotlib.pyplot as plt\n",
        "#plt.plot(t, V*I)\n",
        "#plt.xlabel('Tiempo (s)')\n",
        "#plt.ylabel('Tensión (V)')\n",
        "#plt.show()\n",
        "\n",
        "#plt.plot(t, soc)\n",
        "#plt.xlabel('Tiempo (s)')\n",
        "#plt.ylabel('Tensión (V)')\n",
        "#plt.show()"
      ],
      "metadata": {
        "id": "KJbIVyBUmRIP"
      },
      "execution_count": 4,
      "outputs": []
    },
    {
      "cell_type": "markdown",
      "source": [
        "###Modelo Grid"
      ],
      "metadata": {
        "id": "YdfVPlBJ49uE"
      }
    },
    {
      "cell_type": "code",
      "source": [
        "def Grid(Power):\n",
        "  EffD=0.94 #Eff Diode\n",
        "  EffACDC=0.85 #Eff  AC DC Converter\n",
        "  EffDCDC=0.85 # Eff  DC DC Converter\n",
        "  EffDCAC=0.85 #Eff Inverter\n",
        "  PowerGrid=(Power/(EffACDC*EffD*EffDCDC*EffD*EffDCDC*EffDCAC))+random.randint(5,8) #Random para las perdidas por los leds y perdidas no contempladas\n",
        "  return PowerGrid"
      ],
      "metadata": {
        "id": "dGVyhcbN47Yg"
      },
      "execution_count": 5,
      "outputs": []
    },
    {
      "cell_type": "markdown",
      "source": [
        "#MPPT por Lógica Difusa"
      ],
      "metadata": {
        "id": "bL_rcWv6xa5P"
      }
    },
    {
      "cell_type": "code",
      "source": [
        "error_delta = ctrl.Antecedent(np.arange(-30, 20, 0.1), 'error_delta')\n",
        "voltage_delta = ctrl.Consequent(np.arange(-0.5,0.5, 0.01), 'voltage_delta')\n",
        "\n",
        "error_delta['negative big'] = fuzz.trimf(error_delta.universe,[-30,-30, -20])\n",
        "error_delta['negative medium'] = fuzz.trapmf(error_delta.universe, [-25,-20,-10, -5])\n",
        "error_delta['negative small'] = fuzz.trapmf(error_delta.universe, [-8,-7,-1, -0])\n",
        "error_delta['zero'] = fuzz.trapmf(error_delta.universe, [0, 1,5, 6])\n",
        "error_delta['positive small'] = fuzz.trapmf(error_delta.universe, [5, 6,8, 10])\n",
        "error_delta['positive medium'] = fuzz.trapmf(error_delta.universe, [8, 10,12, 15])\n",
        "error_delta['positive big'] = fuzz.trapmf(error_delta.universe, [12, 15, 20, 20])\n",
        "  \n",
        "voltage_delta['negative big'] = fuzz.trapmf(voltage_delta.universe,[-0.5, -0.5,-0.3,-0.2])\n",
        "voltage_delta['negative medium'] = fuzz.trimf(voltage_delta.universe,[-0.3,-0.2,-0.1])\n",
        "voltage_delta['negative small'] = fuzz.trimf(voltage_delta.universe, [-0.2,-0.1,0])\n",
        "voltage_delta['zero'] = fuzz.trimf(voltage_delta.universe, [-0.1, 0, 0.1])\n",
        "voltage_delta['positive small'] = fuzz.trimf(voltage_delta.universe, [0, 0.1, 0.2])\n",
        "voltage_delta['positive medium'] = fuzz.trimf(voltage_delta.universe, [0.1, 0.2, 0.3])\n",
        "voltage_delta['positive big'] = fuzz.trapmf(voltage_delta.universe, [0.2, 0.3,0.5,0.5])\n",
        "      \n",
        "rule1 = ctrl.Rule(error_delta['negative big'], voltage_delta['negative big'])\n",
        "rule2 = ctrl.Rule(error_delta['negative medium'], voltage_delta['negative medium'])\n",
        "rule3 = ctrl.Rule(error_delta['negative small'], voltage_delta['negative small'])\n",
        "rule4 = ctrl.Rule(error_delta['zero'], voltage_delta['zero'])\n",
        "rule5 = ctrl.Rule(error_delta['positive small'], voltage_delta['positive small'])\n",
        "rule6 = ctrl.Rule(error_delta['positive medium'], voltage_delta['positive medium'])\n",
        "rule7 = ctrl.Rule(error_delta['positive big'], voltage_delta['positive big'])\n",
        "\n",
        "setting_ctrl = ctrl.ControlSystem([rule1,rule2, rule3, rule4, rule5,rule6,rule7])\n",
        "setting = ctrl.ControlSystemSimulation(setting_ctrl)"
      ],
      "metadata": {
        "id": "jL9h39pXxYAQ"
      },
      "execution_count": 6,
      "outputs": []
    },
    {
      "cell_type": "markdown",
      "source": [
        "#Scheduler"
      ],
      "metadata": {
        "id": "SCDTNTMHwgVA"
      }
    },
    {
      "cell_type": "code",
      "source": [
        "def HardDecider(S,PanelPower,PowerGrid,EL_PowerLoad,NEL_PowerLoad,PowerBatt,Radiation):\n",
        "  if S==1:\n",
        "    if PowerBatt<=0 and PanelPower > EL_PowerLoad + NEL_PowerLoad:\n",
        "      S=2\n",
        "    elif PowerGrid==0 or PanelPower > EL_PowerLoad:\n",
        "      S=4\n",
        "    else:\n",
        "      S=1\n",
        "  elif S==2:\n",
        "    if PowerBatt>=5:\n",
        "      S=1\n",
        "    else: \n",
        "      S=2\n",
        "  else: \n",
        "    if PowerBatt>=5 or PanelPower>EL_PowerLoad:\n",
        "      S=1\n",
        "    else: \n",
        "      S=4  \n",
        "  return S\n",
        "    "
      ],
      "metadata": {
        "id": "iopd3pR_wgCb"
      },
      "execution_count": 21,
      "outputs": []
    },
    {
      "cell_type": "markdown",
      "source": [
        "###Inicialización"
      ],
      "metadata": {
        "id": "IQepbYOR5JIz"
      }
    },
    {
      "cell_type": "code",
      "source": [
        "#Datos para pruebas\n",
        "\n",
        "# leer el archivo Excel\n",
        "df = pd.read_excel('/content/sample_data/IATLNTIC4-2016_03_05-2022_08_29.xlsx')\n",
        "# definir la fecha de interés\n",
        "fecha_interes = '2020-07-06'\n",
        "# convertir la columna 'Fecha' a formato datetime\n",
        "df['Fecha'] = pd.to_datetime(df['Fecha'])\n",
        "# crear una máscara booleana para seleccionar los registros de la fecha de interés\n",
        "mask = df['Fecha'] == fecha_interes\n",
        "# seleccionar los registros de la fecha de interés y guardarlos en un array numpy\n",
        "Radiation = np.array(df.loc[mask, 'Solar'])\n",
        "Time = np.array(df.loc[mask, 'Time'])"
      ],
      "metadata": {
        "id": "gAiu1b5m5NgP"
      },
      "execution_count": 35,
      "outputs": []
    },
    {
      "cell_type": "code",
      "source": [
        "#Carga Residencial Típica\n",
        "EL_PowerLoad= np.ones(len(Radiation)) * 15\n",
        "NEL_PowerLoad= np.ones(len(Radiation)) * 10\n",
        "\n",
        "#Sin interrupciones\n",
        "GridFlag=np.ones(len(Radiation))\n",
        "\n",
        "#Datos de entrada\n",
        "S=1\n",
        "#Inicialización de variables\n",
        "PowerLoad=[sum(x) for x in zip(EL_PowerLoad,NEL_PowerLoad)]\n",
        "PowerLoad_a=[]\n",
        "PanelPower_a_a=[]\n",
        "PowerGrid_a=[]\n",
        "PowerBatt_a=[]\n",
        "PanelPower_a=[]\n",
        "PanelVoltage_a=[]\n",
        "TotalLoad=[]\n",
        "Tank_Level_a=[]\n",
        "PowerPEMFC_a=[]\n",
        "TotalLoad_a=[]\n",
        "State_a=[]\n",
        "soc_a=[]\n",
        "\n",
        "# Inicialización para batería\n",
        "soc = 1.0  # Estado inicial de carga de la batería\n",
        "dt = 300.0  # Intervalo de tiempo en segundos\n",
        "V_batt=12\n",
        "I = 1  # Corriente de descarga en amperios\n",
        "t = np.arange(0, 3600, dt)  # Vector de tiempo para la simulación --> Dependiente de la cantidad de muestras que haya\n",
        "V = np.zeros_like(t)  # Vector de tensión para la simulación"
      ],
      "metadata": {
        "id": "19I1L6YIKpsf"
      },
      "execution_count": 41,
      "outputs": []
    },
    {
      "cell_type": "code",
      "source": [
        "def Time_Flag(Hora): #Pasar solo la hora en numeros del 1 al 24\n",
        "  if Hora>=8 and Hora<=16:\n",
        "    flag=True\n",
        "  else:\n",
        "    flag=False \n",
        "  return flag\n",
        "########################################################################################################## Inicialización S1 ####################################################################################################\n",
        "power_delta_a=[]\n",
        "voltage_delta_a=[]\n",
        "volt2affect=0\n",
        "#Hacer diferencia entre potencia nominal y potencia real\n",
        "Vdc=14 #Cargamos los vectores de potencia y voltage con valores iniciales y así evitar la división entre 0\n",
        "(PanelCurrent,PanelPower)=SolarPanel(Vdc,0,Radiation[0],PowerLoad[0])\n",
        "power_delta_a.append(PanelPower)\n",
        "voltage_delta_a.append(Vdc)\n",
        "Vdc=15\n",
        "(PanelCurrent,PanelPower)=SolarPanel(Vdc,PanelCurrent,Radiation[0],PowerLoad[0])\n",
        "power_delta_a.append(PanelPower)\n",
        "voltage_delta_a.append(Vdc)\n",
        "Vdc=16\n",
        "\n",
        "########################################################################################################## Empiza Sistema ####################################################################################################\n",
        "\n",
        "for n in range(len(Radiation)):                   #Aquí debe ir que mientras se tengan datos de entrada\n",
        "  State_a.append(S)\n",
        "  if S==1:################################################################################################ S1 #####################################################################################################\n",
        "        (PanelCurrent,PanelPower)=SolarPanel(Vdc,PanelCurrent,Radiation[n],PowerLoad[n])\n",
        "        if PanelPower>=0:\n",
        "            power_delta_a.pop(0)\n",
        "            voltage_delta_a.pop(0)\n",
        "            power_delta_a.append(PanelPower)\n",
        "            voltage_delta_a.append(Vdc)\n",
        "            try:\n",
        "              power_error=round((power_delta_a[1]-power_delta_a[0])/(voltage_delta_a[1]-voltage_delta_a[0]),3)\n",
        "            except: \n",
        "              power_error=0.01        #Como es un entorno simulado, es posible que la resta de tensiones me de 0, así que en ese caso asigno el error como uno muy pequeño\n",
        "            if power_error>=30:\n",
        "                power_error=30\n",
        "            if power_error<=-20:\n",
        "                power_error=-20\n",
        "            if Time_Flag(8):\n",
        "                if PanelPower<1:    #Para evitar que se atasque cuando potencia del panel=0\n",
        "                    Vdc=16  #Así, si es que nos salimos de los límites, volvemos al inicio, y si no hay radiacion quedamos en una tension relativamente elevada para alimentar cargas, cargar baterias y evitar perdidas por corriente elevada\n",
        "                else:\n",
        "                    #setting.input['error_delta'] = power_error\n",
        "                    #setting.compute()\n",
        "                    #volt2affect = round(setting.output['voltage_delta'],3)\n",
        "                    #if volt2affect<=0.001:\n",
        "                      #volt2affect=0\n",
        "                    Vdc=18#round(Vdc+volt2affect+random.random())#*random.choice([-0.1,0.1]),3)\n",
        "                    if Vdc<=16:   #PONGO LÍMITES PARA LA TENSIÓN \n",
        "                      Vdc=16\n",
        "                    if Vdc>=20:\n",
        "                      Vdc=20\n",
        "            else: \n",
        "                Vdc=16\n",
        "        ########################### Valido el aporte de las otras fuentes##################\n",
        "        PowerLeft=PowerLoad[n]-PanelPower\n",
        "        if PowerLeft>0 and GridFlag[n]==1:\n",
        "          PowerGrid=Grid(PowerLeft)\n",
        "          if soc<0.8: #CARGO BATERIAAAS\n",
        "            pass #No sé cómo asignar la potencia de carga, por el momento cargarán solo en S2\n",
        "          else:\n",
        "            PowerBatt=0\n",
        "        elif PowerLeft>0 and GridFlag[n]==0:\n",
        "          PowerGrid=Grid(0)\n",
        "          if soc>0.1:\n",
        "            PowerBatt=PowerLeft\n",
        "            soc,V_batt=Battery(soc,dt,PowerLeft)\n",
        "          else: #La batería no tiene suficiente carga para alimentar las cargas\n",
        "            PowerLoad[n]=PowerLoad[n]-PowerLeft\n",
        "            PowerBatt=0\n",
        "        else:     #Panel pudo con todo\n",
        "          if soc<0.8:\n",
        "            #(asfa,PowerCharge)=SolarPanel(Vdc,PanelCurrent,Radiation[n],210) # ??\n",
        "            PowerCharge=PowerLoad[n]-PanelPower\n",
        "            if PowerCharge<0:\n",
        "              PowerBatt=PowerCharge\n",
        "              soc,V_batt=Battery(soc,dt,PowerBatt)\n",
        "              PanelPower+=-PowerBatt\n",
        "              PowerGrid=Grid(0)\n",
        "          else:\n",
        "            PowerBatt=0\n",
        "            PowerGrid=Grid(0)\n",
        "        PW_PEMFC=0    \n",
        "  if S==2:    ################################################################################################ S2 #####################################################################################################\n",
        "    (PanelCurrent,PanelPower)=SolarPanel(Vdc,PanelCurrent,Radiation[n],PowerLoad[n])\n",
        "    PowerLeft=PowerLoad[n]-PanelPower\n",
        "    if PowerLeft>0:\n",
        "      if soc>0.1:\n",
        "        PowerBatt=PowerLeft\n",
        "        soc,V_batt=Battery(soc,dt,PowerLeft)\n",
        "      else: #La batería no tiene suficiente carga para alimentar las cargas\n",
        "        PowerLoad[n]=PowerLoad[n]-PowerLeft\n",
        "        PowerBatt=0\n",
        "    elif PowerLeft<=0:\n",
        "      PowerBatt=0\n",
        "    else:\n",
        "      if soc<0.8 and PowerBatt==0:\n",
        "        #(asfa,PanelPower)=SolarPanel(Vdc,PanelCurrent,Radiation[n],210)\n",
        "        PowerCharge=PowerLoad[n]-PanelPower\n",
        "        if PowerCharge<0:\n",
        "          PowerBatt=PowerCharge\n",
        "          soc,V_batt=Battery(soc,dt,PowerBatt)\n",
        "          PanelPower+=-PowerBatt\n",
        "          PowerGrid=0\n",
        "        else:\n",
        "          PowerBatt=0\n",
        "          PowerGrid=0\n",
        "      else:\n",
        "        PowerGrid=0\n",
        "        PowerBatt=0 \n",
        "\n",
        "  if S==4:   ################################################################################################ S4 #####################################################################################################\n",
        "  #Cargas escenciales\n",
        "    GridSetPoint=16\n",
        "    (PanelCurrent,PanelPower)=SolarPanel(GridSetPoint,PanelCurrent,Radiation[n],EL_PowerLoad[n])\n",
        "    PowerLeft=EL_PowerLoad[n]-PanelPower\n",
        "    if PowerLeft>0 and GridFlag[n]==1:\n",
        "      PowerGrid=Grid(PowerLeft)\n",
        "    elif PowerLeft>0 and GridFlag[n]==0:\n",
        "      if soc>0.1:\n",
        "        PowerBatt=PowerLeft\n",
        "        soc,V_batt=Battery(soc,dt,PowerLeft)\n",
        "      else: #La batería no tiene suficiente carga para alimentar las cargas\n",
        "        EL_PowerLoad[n]=PowerLoad[n]-PowerLeft\n",
        "        PowerBatt=0\n",
        "      PowerGrid=Grid(0)\n",
        "    elif PowerLeft<0:     \n",
        "      PowerGrid=Grid(0)\n",
        "      PowerBatt=0\n",
        "  #Cargas no escenciales         \n",
        "    if GridFlag[n]==1:\n",
        "      PowerGrid+=Grid(NEL_PowerLoad[n])\n",
        "    else:\n",
        "      PowerGrid=Grid(0)\n",
        "      NEL_PowerLoad[n]=0\n",
        "  #############Decisor de estados######################\n",
        "  S=HardDecider(S,PanelPower,PowerGrid,EL_PowerLoad[n],NEL_PowerLoad[n],PowerBatt,Radiation[n])\n",
        "  #############Decisor de estados######################\n",
        "  State_a.append(S)\n",
        "  soc_a.append(soc)\n",
        "  TotalLoad=EL_PowerLoad[n]+NEL_PowerLoad[n]\n",
        "  TotalLoad_a.append(TotalLoad)   \n",
        "  PanelPower_a.append(PanelPower)\n",
        "  PowerGrid_a.append(PowerGrid)\n",
        "  PowerBatt_a.append(PowerBatt) "
      ],
      "metadata": {
        "id": "HfuaXrd95eCF",
        "colab": {
          "base_uri": "https://localhost:8080/"
        },
        "outputId": "5f3381d4-7bc6-40ce-b018-9cfff1b19fcc"
      },
      "execution_count": 42,
      "outputs": [
        {
          "output_type": "stream",
          "name": "stderr",
          "text": [
            "<ipython-input-42-36c2787dc104>:34: RuntimeWarning: divide by zero encountered in double_scalars\n",
            "  power_error=round((power_delta_a[1]-power_delta_a[0])/(voltage_delta_a[1]-voltage_delta_a[0]),3)\n"
          ]
        }
      ]
    },
    {
      "cell_type": "code",
      "source": [
        "etiquetas_xticks = [Time[n] for n in range(len(Time)) if n % 45 == 0]\n",
        "\n",
        "plt.plot(Time,PowerGrid_a)\n",
        "plt.plot(PanelPower_a)\n",
        "plt.plot(PowerBatt_a)\n",
        "plt.plot(TotalLoad_a)\n",
        "plt.legend([\"GRID\",\"PANEL\",\"BATT\",\"LOAD\"])\n",
        "plt.xlabel('Hora')\n",
        "plt.ylabel('Potencia [w]')\n",
        "plt.xticks(etiquetas_xticks)\n",
        "\n",
        "# Utilizar los mismos valores para las etiquetas\n",
        "plt.show()\n",
        "print(State_a)\n",
        "#Unidades - Vatios y Horas/Segundos.\n"
      ],
      "metadata": {
        "colab": {
          "base_uri": "https://localhost:8080/",
          "height": 487
        },
        "id": "vTHCRvClFGA1",
        "outputId": "eee83166-81b2-421a-a9b4-64d2b44f4d0e"
      },
      "execution_count": 58,
      "outputs": [
        {
          "output_type": "display_data",
          "data": {
            "text/plain": [
              "<Figure size 640x480 with 1 Axes>"
            ],
            "image/png": "[encoded data removed]"
          },
          "metadata": {}
        },
        {
          "output_type": "stream",
          "name": "stdout",
          "text": [
            "[1, 1, 1, 1, 1, 1, 1, 1, 1, 1, 1, 1, 1, 1, 1, 1, 1, 1, 1, 1, 1, 1, 1, 1, 1, 1, 1, 1, 1, 1, 1, 1, 1, 1, 1, 1, 1, 1, 1, 1, 1, 1, 1, 1, 1, 1, 1, 1, 1, 1, 1, 1, 1, 1, 1, 1, 1, 1, 1, 1, 1, 1, 1, 1, 1, 1, 1, 1, 1, 1, 1, 1, 1, 1, 1, 1, 1, 1, 1, 1, 1, 1, 1, 1, 1, 1, 1, 1, 1, 1, 1, 1, 1, 1, 1, 1, 1, 1, 1, 1, 1, 1, 1, 1, 1, 1, 1, 1, 1, 1, 1, 1, 1, 1, 1, 1, 1, 1, 1, 1, 1, 1, 1, 1, 1, 1, 1, 1, 1, 1, 1, 1, 1, 1, 1, 1, 1, 1, 1, 1, 1, 1, 1, 1, 1, 1, 1, 1, 1, 1, 1, 1, 1, 1, 1, 1, 1, 1, 1, 1, 1, 1, 1, 1, 1, 1, 1, 1, 1, 1, 1, 1, 1, 1, 1, 1, 1, 1, 1, 1, 1, 1, 1, 1, 1, 1, 1, 1, 1, 1, 1, 1, 1, 1, 1, 1, 1, 1, 1, 1, 1, 1, 1, 1, 1, 1, 1, 1, 1, 1, 1, 4, 4, 1, 1, 4, 4, 1, 1, 2, 2, 2, 2, 2, 2, 2, 2, 2, 2, 2, 2, 2, 2, 2, 2, 2, 2, 2, 2, 2, 2, 2, 2, 2, 2, 2, 2, 2, 2, 2, 2, 2, 2, 2, 2, 2, 2, 2, 2, 2, 2, 2, 2, 2, 2, 2, 2, 2, 2, 2, 2, 2, 2, 2, 2, 2, 2, 2, 2, 2, 2, 2, 2, 2, 2, 2, 2, 2, 2, 2, 2, 2, 2, 2, 2, 2, 2, 2, 2, 2, 2, 2, 2, 2, 2, 2, 2, 2, 2, 2, 2, 2, 2, 2, 2, 2, 2, 2, 2, 2, 2, 2, 2, 2, 2, 2, 2, 2, 2, 2, 2, 2, 2, 2, 2, 2, 2, 2, 2, 2, 2, 2, 2, 2, 2, 2, 2, 2, 2, 2, 2, 2, 2, 2, 2, 2, 2, 2, 2, 2, 2, 2, 2, 2, 2, 2, 2, 2, 2, 2, 2, 2, 2, 2, 2, 2, 2, 2, 2, 2, 2, 2, 2, 2, 2, 2, 2, 2, 2, 2, 2, 2, 2, 2, 2, 2, 2, 2, 2, 2, 2, 2, 2, 2, 2, 2, 2, 2, 2, 2, 2, 2, 2, 2, 2, 2, 2, 1, 1, 1, 1, 1, 1, 1, 1, 1, 1, 1, 1, 1, 1, 1, 1, 1, 1, 1, 1, 1, 1, 1, 1, 1, 1, 1, 1, 1, 1, 1, 1, 1, 1, 1, 1, 1, 1, 1, 1, 1, 1, 1, 1, 1, 1, 1, 1, 1, 1, 1, 1, 1, 1, 1, 1, 1, 1, 1, 1, 1, 1, 1, 1, 1, 1, 1, 1, 1, 1, 1, 1, 1, 1, 1, 1, 1, 1, 1, 1, 1, 1, 1, 1, 1, 1, 1, 1, 1, 1, 1, 1, 1, 1, 1, 1, 1, 1, 1, 1, 1, 1, 1, 1, 1, 1, 1, 1, 1, 1, 1, 1, 1, 1, 1, 1, 1, 1, 1, 1, 1, 1, 1, 1, 1, 1, 1, 1, 1, 1, 1, 1, 1, 1, 1, 1, 1, 1, 1, 1, 1, 1, 1, 1, 1, 1, 1, 1, 1, 1, 1, 1, 1, 1, 1, 1, 1, 1, 1]\n"
          ]
        }
      ]
    }
  ]
}